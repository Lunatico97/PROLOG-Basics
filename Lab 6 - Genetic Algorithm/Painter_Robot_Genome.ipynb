{
 "cells": [
  {
   "cell_type": "markdown",
   "id": "77e5bede",
   "metadata": {},
   "source": [
    "# Painter Robot Using Genetic Algorithm"
   ]
  },
  {
   "cell_type": "markdown",
   "id": "7a6aaa2f",
   "metadata": {},
   "source": [
    "## - Diwas Adhikari (076BEI014)"
   ]
  },
  {
   "cell_type": "code",
   "execution_count": 1,
   "id": "47e07a84",
   "metadata": {},
   "outputs": [],
   "source": [
    "import random ;\n",
    "import numpy as np ;\n",
    "import matplotlib.pyplot as plt ;"
   ]
  },
  {
   "cell_type": "markdown",
   "id": "202ddf3c",
   "metadata": {},
   "source": [
    "- The chromosome is of 50*54 dimensions with 50 random chromosomes to evolve over 200 generations."
   ]
  },
  {
   "cell_type": "code",
   "execution_count": 2,
   "id": "2cbf2abe",
   "metadata": {},
   "outputs": [],
   "source": [
    "totalGenerations = 200 ;\n",
    "populationSize = 50 ;\n",
    "lengthChromosome = 54 ;\n",
    "playsPerChromosome = 5 ;"
   ]
  },
  {
   "cell_type": "markdown",
   "id": "c0bd3ba8",
   "metadata": {},
   "source": [
    "- The dimensions of the empty room to be painted is 20*40 units."
   ]
  },
  {
   "cell_type": "code",
   "execution_count": 3,
   "id": "f1c10fbe",
   "metadata": {},
   "outputs": [],
   "source": [
    "roomWidth = 20 ;\n",
    "roomHeight = 40 ;\n",
    "room = [[0 for _ in range(roomWidth)] for _ in range(roomHeight)] ;"
   ]
  },
  {
   "cell_type": "markdown",
   "id": "ba5ad03c",
   "metadata": {},
   "source": [
    "- Function to display the room"
   ]
  },
  {
   "cell_type": "code",
   "execution_count": 4,
   "id": "1bf36d24",
   "metadata": {},
   "outputs": [],
   "source": [
    "def showRoom(room):\n",
    "    cmap = {0: \"green\", 1: \"yellow\", 2: \"brown\"} ;\n",
    "    plt.figure(figsize=(2,4)) ;\n",
    "    for y in range(len(room)):\n",
    "        for x in range(len(room[0])):\n",
    "            value = room[y][x] ;\n",
    "            color = cmap[value] ;\n",
    "            plt.fill_between([x, x + 1], y, y + 1, color=color) ;\n",
    "\n",
    "    plt.xlim(0, len(room[0])) ;\n",
    "    plt.ylim(0, len(room)) ;\n",
    "    plt.gca().invert_yaxis() ;\n",
    "    plt.axis(\"off\") ;\n",
    "    plt.show() ;"
   ]
  },
  {
   "cell_type": "code",
   "execution_count": 5,
   "id": "e6b4b010",
   "metadata": {},
   "outputs": [
    {
     "data": {
      "image/png": "[encoded data removed]",
      "text/plain": [
       "<Figure size 144x288 with 1 Axes>"
      ]
     },
     "metadata": {
      "needs_background": "light"
     },
     "output_type": "display_data"
    }
   ],
   "source": [
    "showRoom(room) ;"
   ]
  },
  {
   "cell_type": "markdown",
   "id": "2ce37a76",
   "metadata": {},
   "source": [
    "- Initialize a random population with random chromosomes."
   ]
  },
  {
   "cell_type": "code",
   "execution_count": 6,
   "id": "36aea1a0",
   "metadata": {},
   "outputs": [],
   "source": [
    "population = [] ;\n",
    "for i in range(populationSize):\n",
    "    newChromosome = [np.random.randint(0, 3) for _ in range(lengthChromosome)] ;\n",
    "    population.append(newChromosome) ;"
   ]
  },
  {
   "cell_type": "markdown",
   "id": "da886bc1",
   "metadata": {},
   "source": [
    "- Calculate fitness based on the number of tiles it can paint for the room"
   ]
  },
  {
   "cell_type": "code",
   "execution_count": 7,
   "id": "ca132046",
   "metadata": {},
   "outputs": [],
   "source": [
    "def calculateFitness(chromosome, room):\n",
    "    score = 0 ;\n",
    "    position = [0, 0] ;\n",
    "    painted = set() ;\n",
    "    for movement in chromosome:\n",
    "        if movement == 0:\n",
    "            newPosition = [position[0], position[1]+1] ;\n",
    "        elif movement == 1:\n",
    "            newPosition = [position[0]-1, position[1]] ;\n",
    "        elif movement == 2:\n",
    "            newPosition = [position[0]+1, position[1]] ;\n",
    "        else:\n",
    "            newPosition = [position[0] + np.random.choice([-1, 1]), position[1]] ;\n",
    "        # Check if the robot is within bounds\n",
    "        if (newPosition[0] <= 0 or newPosition[0] >= roomHeight\n",
    "            or newPosition[1] < 0 or newPosition[1] >= roomWidth):\n",
    "            continue ;\n",
    "        # Check if that tile is already painted\n",
    "        if tuple(newPosition) in painted:\n",
    "            continue ;\n",
    "        # Update the scores if it is actually a new tile that is never painted before \n",
    "        painted.add(tuple(newPosition)) ;\n",
    "        score += room[newPosition[0]][newPosition[1]] == 0 ;\n",
    "        position = newPosition ;\n",
    "    return score ;"
   ]
  },
  {
   "cell_type": "markdown",
   "id": "bdfd23f7",
   "metadata": {},
   "source": [
    "- Use genetic operators to evolve the population"
   ]
  },
  {
   "cell_type": "code",
   "execution_count": 8,
   "id": "0220f155",
   "metadata": {},
   "outputs": [],
   "source": [
    "def evolvePopulation(population, room, mutationProbability):\n",
    "    # Evaluate fitness of each chromosome in the population\n",
    "    fitness = [] ;\n",
    "    for chromosome in population:\n",
    "        totalEfficiency = 0 ;\n",
    "        for i in range(playsPerChromosome):\n",
    "            totalEfficiency += calculateFitness(chromosome, room) ;\n",
    "        avgEfficiency = totalEfficiency/playsPerChromosome ;\n",
    "        fitness.append(avgEfficiency) ;\n",
    "    # Selection\n",
    "    parents = [] ;\n",
    "    for i in range(populationSize // 2):\n",
    "        selectionQuota = random.sample(fitness, 5) ;\n",
    "        selected = fitness.index(max(selectionQuota)) ;\n",
    "        parents.append(population[selected]) ;\n",
    "    # Crossover \n",
    "    newGeneration = [] ;\n",
    "    for i in range(populationSize):\n",
    "        parent1 = random.choice(parents) ;\n",
    "        parent2 = random.choice(parents) ;\n",
    "        offsprings = [] ;\n",
    "        # Use a crossover point to break and swap bits of chromosome\n",
    "        crossoverPoint = np.random.randint(0, lengthChromosome) ;\n",
    "        for j in range(lengthChromosome):\n",
    "            if j <= crossoverPoint:\n",
    "                offsprings.append(parent1[j]) ;\n",
    "            else:\n",
    "                offsprings.append(parent2[j]) ;\n",
    "            # Mutation\n",
    "            if np.random.random() < mutationProbability:\n",
    "                offsprings[j] = random.randint(0, 3) ;\n",
    "        newGeneration.append(offsprings) ;\n",
    "    return newGeneration ;"
   ]
  },
  {
   "cell_type": "code",
   "execution_count": 9,
   "id": "198301c1",
   "metadata": {},
   "outputs": [],
   "source": [
    "# Perform evolution over multiple generations\n",
    "def geneticTraining(population, room, mutationProbability, totalGenerations):\n",
    "    for generation in range(totalGenerations):\n",
    "        population = evolvePopulation(population, room, mutationProbability) ;\n",
    "        fitness = [] ;\n",
    "        for chromosome in population:\n",
    "            x = calculateFitness(chromosome, room) ;\n",
    "            fitness.append(x) ;\n",
    "        averageFitness = sum(fitness)/len(fitness) ;\n",
    "        print(\"Generation\", generation, \"-> Average fitness :\", averageFitness) ;\n",
    "    return population ;"
   ]
  },
  {
   "cell_type": "code",
   "execution_count": 10,
   "id": "8ec7249e",
   "metadata": {},
   "outputs": [
    {
     "name": "stdout",
     "output_type": "stream",
     "text": [
      "Generation 0 -> Average fitness : 40.06\n",
      "Generation 1 -> Average fitness : 42.68\n",
      "Generation 2 -> Average fitness : 44.26\n",
      "Generation 3 -> Average fitness : 45.64\n",
      "Generation 4 -> Average fitness : 46.4\n",
      "Generation 5 -> Average fitness : 46.96\n",
      "Generation 6 -> Average fitness : 47.8\n",
      "Generation 7 -> Average fitness : 48.24\n",
      "Generation 8 -> Average fitness : 48.7\n",
      "Generation 9 -> Average fitness : 49.2\n",
      "Generation 10 -> Average fitness : 50.0\n",
      "Generation 11 -> Average fitness : 51.1\n",
      "Generation 12 -> Average fitness : 50.86\n",
      "Generation 13 -> Average fitness : 51.04\n",
      "Generation 14 -> Average fitness : 51.64\n",
      "Generation 15 -> Average fitness : 51.8\n",
      "Generation 16 -> Average fitness : 52.02\n",
      "Generation 17 -> Average fitness : 51.34\n",
      "Generation 18 -> Average fitness : 52.48\n",
      "Generation 19 -> Average fitness : 51.98\n",
      "Generation 20 -> Average fitness : 52.04\n",
      "Generation 21 -> Average fitness : 52.58\n",
      "Generation 22 -> Average fitness : 52.94\n",
      "Generation 23 -> Average fitness : 53.04\n",
      "Generation 24 -> Average fitness : 52.96\n",
      "Generation 25 -> Average fitness : 53.3\n",
      "Generation 26 -> Average fitness : 53.16\n",
      "Generation 27 -> Average fitness : 53.2\n",
      "Generation 28 -> Average fitness : 53.16\n",
      "Generation 29 -> Average fitness : 53.18\n",
      "Generation 30 -> Average fitness : 53.0\n",
      "Generation 31 -> Average fitness : 53.1\n",
      "Generation 32 -> Average fitness : 53.08\n",
      "Generation 33 -> Average fitness : 53.18\n",
      "Generation 34 -> Average fitness : 53.04\n",
      "Generation 35 -> Average fitness : 52.84\n",
      "Generation 36 -> Average fitness : 53.36\n",
      "Generation 37 -> Average fitness : 53.26\n",
      "Generation 38 -> Average fitness : 53.12\n",
      "Generation 39 -> Average fitness : 52.72\n",
      "Generation 40 -> Average fitness : 52.74\n",
      "Generation 41 -> Average fitness : 52.98\n",
      "Generation 42 -> Average fitness : 53.34\n",
      "Generation 43 -> Average fitness : 53.02\n",
      "Generation 44 -> Average fitness : 52.8\n",
      "Generation 45 -> Average fitness : 52.68\n",
      "Generation 46 -> Average fitness : 52.86\n",
      "Generation 47 -> Average fitness : 52.88\n",
      "Generation 48 -> Average fitness : 52.7\n",
      "Generation 49 -> Average fitness : 52.76\n",
      "Generation 50 -> Average fitness : 53.12\n",
      "Generation 51 -> Average fitness : 53.2\n",
      "Generation 52 -> Average fitness : 53.1\n",
      "Generation 53 -> Average fitness : 52.62\n",
      "Generation 54 -> Average fitness : 53.02\n",
      "Generation 55 -> Average fitness : 52.82\n",
      "Generation 56 -> Average fitness : 52.96\n",
      "Generation 57 -> Average fitness : 52.76\n",
      "Generation 58 -> Average fitness : 52.92\n",
      "Generation 59 -> Average fitness : 53.38\n",
      "Generation 60 -> Average fitness : 52.78\n",
      "Generation 61 -> Average fitness : 52.96\n",
      "Generation 62 -> Average fitness : 52.82\n",
      "Generation 63 -> Average fitness : 52.92\n",
      "Generation 64 -> Average fitness : 53.06\n",
      "Generation 65 -> Average fitness : 52.96\n",
      "Generation 66 -> Average fitness : 53.3\n",
      "Generation 67 -> Average fitness : 52.94\n",
      "Generation 68 -> Average fitness : 52.9\n",
      "Generation 69 -> Average fitness : 53.36\n",
      "Generation 70 -> Average fitness : 53.54\n",
      "Generation 71 -> Average fitness : 53.22\n",
      "Generation 72 -> Average fitness : 52.84\n",
      "Generation 73 -> Average fitness : 53.28\n",
      "Generation 74 -> Average fitness : 52.86\n",
      "Generation 75 -> Average fitness : 52.62\n",
      "Generation 76 -> Average fitness : 52.56\n",
      "Generation 77 -> Average fitness : 52.98\n",
      "Generation 78 -> Average fitness : 52.8\n",
      "Generation 79 -> Average fitness : 52.32\n",
      "Generation 80 -> Average fitness : 52.94\n",
      "Generation 81 -> Average fitness : 53.08\n",
      "Generation 82 -> Average fitness : 53.06\n",
      "Generation 83 -> Average fitness : 52.62\n",
      "Generation 84 -> Average fitness : 52.86\n",
      "Generation 85 -> Average fitness : 52.62\n",
      "Generation 86 -> Average fitness : 52.36\n",
      "Generation 87 -> Average fitness : 52.52\n",
      "Generation 88 -> Average fitness : 52.44\n",
      "Generation 89 -> Average fitness : 52.5\n",
      "Generation 90 -> Average fitness : 52.96\n",
      "Generation 91 -> Average fitness : 52.58\n",
      "Generation 92 -> Average fitness : 52.24\n",
      "Generation 93 -> Average fitness : 52.52\n",
      "Generation 94 -> Average fitness : 52.98\n",
      "Generation 95 -> Average fitness : 52.88\n",
      "Generation 96 -> Average fitness : 52.68\n",
      "Generation 97 -> Average fitness : 53.04\n",
      "Generation 98 -> Average fitness : 53.08\n",
      "Generation 99 -> Average fitness : 52.88\n",
      "Generation 100 -> Average fitness : 52.88\n",
      "Generation 101 -> Average fitness : 52.82\n",
      "Generation 102 -> Average fitness : 52.84\n",
      "Generation 103 -> Average fitness : 52.68\n",
      "Generation 104 -> Average fitness : 52.82\n",
      "Generation 105 -> Average fitness : 52.6\n",
      "Generation 106 -> Average fitness : 53.18\n",
      "Generation 107 -> Average fitness : 52.58\n",
      "Generation 108 -> Average fitness : 52.48\n",
      "Generation 109 -> Average fitness : 52.6\n",
      "Generation 110 -> Average fitness : 53.04\n",
      "Generation 111 -> Average fitness : 53.02\n",
      "Generation 112 -> Average fitness : 52.88\n",
      "Generation 113 -> Average fitness : 53.12\n",
      "Generation 114 -> Average fitness : 52.62\n",
      "Generation 115 -> Average fitness : 52.96\n",
      "Generation 116 -> Average fitness : 52.92\n",
      "Generation 117 -> Average fitness : 52.7\n",
      "Generation 118 -> Average fitness : 52.6\n",
      "Generation 119 -> Average fitness : 52.98\n",
      "Generation 120 -> Average fitness : 52.9\n",
      "Generation 121 -> Average fitness : 53.34\n",
      "Generation 122 -> Average fitness : 53.0\n",
      "Generation 123 -> Average fitness : 53.12\n",
      "Generation 124 -> Average fitness : 53.04\n",
      "Generation 125 -> Average fitness : 53.52\n",
      "Generation 126 -> Average fitness : 53.0\n",
      "Generation 127 -> Average fitness : 52.8\n",
      "Generation 128 -> Average fitness : 53.24\n",
      "Generation 129 -> Average fitness : 52.48\n",
      "Generation 130 -> Average fitness : 52.74\n",
      "Generation 131 -> Average fitness : 53.32\n",
      "Generation 132 -> Average fitness : 53.02\n",
      "Generation 133 -> Average fitness : 53.24\n",
      "Generation 134 -> Average fitness : 53.1\n",
      "Generation 135 -> Average fitness : 52.8\n",
      "Generation 136 -> Average fitness : 52.66\n",
      "Generation 137 -> Average fitness : 52.6\n",
      "Generation 138 -> Average fitness : 52.92\n",
      "Generation 139 -> Average fitness : 52.74\n",
      "Generation 140 -> Average fitness : 53.22\n",
      "Generation 141 -> Average fitness : 53.04\n",
      "Generation 142 -> Average fitness : 52.94\n",
      "Generation 143 -> Average fitness : 52.94\n",
      "Generation 144 -> Average fitness : 53.44\n",
      "Generation 145 -> Average fitness : 53.3\n",
      "Generation 146 -> Average fitness : 53.24\n",
      "Generation 147 -> Average fitness : 53.22\n",
      "Generation 148 -> Average fitness : 53.04\n",
      "Generation 149 -> Average fitness : 53.3\n",
      "Generation 150 -> Average fitness : 53.06\n",
      "Generation 151 -> Average fitness : 52.92\n",
      "Generation 152 -> Average fitness : 53.02\n",
      "Generation 153 -> Average fitness : 53.32\n",
      "Generation 154 -> Average fitness : 52.82\n",
      "Generation 155 -> Average fitness : 53.16\n",
      "Generation 156 -> Average fitness : 53.02\n",
      "Generation 157 -> Average fitness : 52.92\n",
      "Generation 158 -> Average fitness : 53.28\n",
      "Generation 159 -> Average fitness : 53.02\n",
      "Generation 160 -> Average fitness : 53.1\n",
      "Generation 161 -> Average fitness : 52.66\n",
      "Generation 162 -> Average fitness : 52.9\n",
      "Generation 163 -> Average fitness : 52.56\n",
      "Generation 164 -> Average fitness : 53.16\n",
      "Generation 165 -> Average fitness : 53.08\n",
      "Generation 166 -> Average fitness : 53.06\n",
      "Generation 167 -> Average fitness : 53.38\n",
      "Generation 168 -> Average fitness : 52.86\n",
      "Generation 169 -> Average fitness : 53.2\n",
      "Generation 170 -> Average fitness : 53.14\n",
      "Generation 171 -> Average fitness : 53.38\n",
      "Generation 172 -> Average fitness : 53.0\n",
      "Generation 173 -> Average fitness : 53.2\n",
      "Generation 174 -> Average fitness : 53.14\n",
      "Generation 175 -> Average fitness : 53.22\n",
      "Generation 176 -> Average fitness : 52.76\n",
      "Generation 177 -> Average fitness : 53.26\n",
      "Generation 178 -> Average fitness : 53.04\n",
      "Generation 179 -> Average fitness : 53.3\n",
      "Generation 180 -> Average fitness : 52.9\n",
      "Generation 181 -> Average fitness : 53.04\n",
      "Generation 182 -> Average fitness : 53.1\n",
      "Generation 183 -> Average fitness : 52.82\n",
      "Generation 184 -> Average fitness : 53.1\n",
      "Generation 185 -> Average fitness : 53.14\n",
      "Generation 186 -> Average fitness : 53.06\n",
      "Generation 187 -> Average fitness : 52.66\n",
      "Generation 188 -> Average fitness : 52.7\n",
      "Generation 189 -> Average fitness : 52.28\n",
      "Generation 190 -> Average fitness : 52.8\n",
      "Generation 191 -> Average fitness : 52.58\n",
      "Generation 192 -> Average fitness : 52.68\n",
      "Generation 193 -> Average fitness : 52.6\n",
      "Generation 194 -> Average fitness : 53.14\n",
      "Generation 195 -> Average fitness : 52.72\n",
      "Generation 196 -> Average fitness : 52.74\n",
      "Generation 197 -> Average fitness : 52.98\n",
      "Generation 198 -> Average fitness : 52.82\n",
      "Generation 199 -> Average fitness : 52.66\n"
     ]
    }
   ],
   "source": [
    "population = geneticTraining(population, room, 0.025, totalGenerations) ;"
   ]
  },
  {
   "cell_type": "code",
   "execution_count": 11,
   "id": "53213fdc",
   "metadata": {},
   "outputs": [
    {
     "name": "stdout",
     "output_type": "stream",
     "text": [
      "The fittest chromosome is  [2, 2, 2, 2, 2, 0, 2, 2, 0, 0, 2, 2, 2, 2, 0, 0, 0, 1, 1, 1, 0, 0, 2, 2, 0, 3, 0, 2, 2, 2, 0, 2, 2, 2, 2, 2, 0, 1, 1, 0, 2, 0, 1, 0, 1, 1, 0, 0, 0, 2, 0, 1, 1, 1]\n"
     ]
    }
   ],
   "source": [
    "maxFitness = -99999 ;\n",
    "chosenOne = 0 ;\n",
    "for i, chromosome in enumerate(population):\n",
    "    x = calculateFitness(chromosome, room) ;\n",
    "    if x > maxFitness:\n",
    "        chosenOne = i ;\n",
    "fittestChromosome = population[chosenOne] ;\n",
    "print(\"The fittest chromosome is \", fittestChromosome) ;"
   ]
  },
  {
   "cell_type": "markdown",
   "id": "4e58e1d4",
   "metadata": {},
   "source": [
    "- Use the chromosome to track the path of the robot for plotting it later "
   ]
  },
  {
   "cell_type": "code",
   "execution_count": 12,
   "id": "2ce8416a",
   "metadata": {},
   "outputs": [],
   "source": [
    "def trackPathInRoom(room, fittestChromosome):\n",
    "    # '0' is unpainted - '1' is wall - '2' is painted\n",
    "    robotPosition = [0, 0] ;\n",
    "    room[0][0] = 2 ;\n",
    "    for movement in fittestChromosome:\n",
    "        if movement == 0: # Forward\n",
    "            if robotPosition[1] >= roomHeight:\n",
    "                continue ;\n",
    "            robotPosition[1] += 1 ;\n",
    "        elif movement == 1: # Left\n",
    "            if robotPosition[0] <= 0:\n",
    "                continue ;\n",
    "            robotPosition[0] -= 1 ;\n",
    "        elif movement == 2: # Right\n",
    "            if robotPosition[0] >= roomWidth:\n",
    "                continue ;\n",
    "            robotPosition[0] += 1 ;\n",
    "        else: # Random left or right\n",
    "            if robotPosition[0] >= roomWidth or robotPosition[0] <= 0:\n",
    "                continue ;\n",
    "            robotPosition[0] += np.random.choice([-1, 1]) ;\n",
    "        room[robotPosition[0]][robotPosition[1]] = 2 ;\n",
    "    return room ;"
   ]
  },
  {
   "cell_type": "code",
   "execution_count": 13,
   "id": "38e3c904",
   "metadata": {},
   "outputs": [
    {
     "data": {
      "image/png": "[encoded data removed]",
      "text/plain": [
       "<Figure size 144x288 with 1 Axes>"
      ]
     },
     "metadata": {
      "needs_background": "light"
     },
     "output_type": "display_data"
    }
   ],
   "source": [
    "room = trackPathInRoom(room, fittestChromosome) ;\n",
    "showRoom(room) ;"
   ]
  },
  {
   "cell_type": "markdown",
   "id": "9a48edc3",
   "metadata": {},
   "source": [
    "- Put some obstacles to check the performance of the fittest genome. [Wall -> 1]"
   ]
  },
  {
   "cell_type": "code",
   "execution_count": 14,
   "id": "88def6db",
   "metadata": {},
   "outputs": [
    {
     "data": {
      "image/png": "[encoded data removed]",
      "text/plain": [
       "<Figure size 144x288 with 1 Axes>"
      ]
     },
     "metadata": {
      "needs_background": "light"
     },
     "output_type": "display_data"
    }
   ],
   "source": [
    "obstacleRoom = [[0 for _ in range(roomWidth)] for _ in range(roomHeight)] ;\n",
    "for i in range(100):\n",
    "    posX = np.random.randint(1, roomWidth-1) ;\n",
    "    posY = np.random.randint(1, roomHeight-1) ;\n",
    "    obstacleRoom[posY][posX] = 1 ;\n",
    "showRoom(obstacleRoom) ;"
   ]
  },
  {
   "cell_type": "code",
   "execution_count": 15,
   "id": "a89d7eea",
   "metadata": {},
   "outputs": [
    {
     "name": "stdout",
     "output_type": "stream",
     "text": [
      "Generation 0 -> Average fitness : 47.82\n",
      "Generation 1 -> Average fitness : 48.12\n",
      "Generation 2 -> Average fitness : 49.08\n",
      "Generation 3 -> Average fitness : 50.2\n",
      "Generation 4 -> Average fitness : 50.56\n",
      "Generation 5 -> Average fitness : 50.4\n",
      "Generation 6 -> Average fitness : 50.48\n",
      "Generation 7 -> Average fitness : 50.62\n",
      "Generation 8 -> Average fitness : 50.7\n",
      "Generation 9 -> Average fitness : 50.5\n",
      "Generation 10 -> Average fitness : 50.84\n",
      "Generation 11 -> Average fitness : 50.44\n",
      "Generation 12 -> Average fitness : 49.92\n",
      "Generation 13 -> Average fitness : 50.7\n",
      "Generation 14 -> Average fitness : 50.62\n",
      "Generation 15 -> Average fitness : 50.44\n",
      "Generation 16 -> Average fitness : 50.62\n",
      "Generation 17 -> Average fitness : 50.46\n",
      "Generation 18 -> Average fitness : 50.8\n",
      "Generation 19 -> Average fitness : 50.84\n",
      "Generation 20 -> Average fitness : 51.1\n",
      "Generation 21 -> Average fitness : 51.82\n",
      "Generation 22 -> Average fitness : 51.66\n",
      "Generation 23 -> Average fitness : 51.66\n",
      "Generation 24 -> Average fitness : 51.92\n",
      "Generation 25 -> Average fitness : 51.74\n",
      "Generation 26 -> Average fitness : 51.84\n",
      "Generation 27 -> Average fitness : 51.92\n",
      "Generation 28 -> Average fitness : 51.82\n",
      "Generation 29 -> Average fitness : 51.62\n",
      "Generation 30 -> Average fitness : 51.62\n",
      "Generation 31 -> Average fitness : 51.64\n",
      "Generation 32 -> Average fitness : 51.98\n",
      "Generation 33 -> Average fitness : 51.82\n",
      "Generation 34 -> Average fitness : 51.86\n",
      "Generation 35 -> Average fitness : 51.86\n",
      "Generation 36 -> Average fitness : 51.62\n",
      "Generation 37 -> Average fitness : 51.56\n",
      "Generation 38 -> Average fitness : 51.92\n",
      "Generation 39 -> Average fitness : 51.8\n",
      "Generation 40 -> Average fitness : 51.68\n",
      "Generation 41 -> Average fitness : 51.72\n",
      "Generation 42 -> Average fitness : 51.84\n",
      "Generation 43 -> Average fitness : 51.3\n",
      "Generation 44 -> Average fitness : 51.68\n",
      "Generation 45 -> Average fitness : 51.76\n",
      "Generation 46 -> Average fitness : 51.56\n",
      "Generation 47 -> Average fitness : 51.74\n",
      "Generation 48 -> Average fitness : 51.56\n",
      "Generation 49 -> Average fitness : 51.7\n",
      "Generation 50 -> Average fitness : 51.82\n",
      "Generation 51 -> Average fitness : 51.74\n",
      "Generation 52 -> Average fitness : 51.78\n",
      "Generation 53 -> Average fitness : 51.8\n",
      "Generation 54 -> Average fitness : 51.94\n",
      "Generation 55 -> Average fitness : 51.84\n",
      "Generation 56 -> Average fitness : 51.96\n",
      "Generation 57 -> Average fitness : 51.82\n",
      "Generation 58 -> Average fitness : 51.96\n",
      "Generation 59 -> Average fitness : 51.64\n",
      "Generation 60 -> Average fitness : 51.86\n",
      "Generation 61 -> Average fitness : 51.96\n",
      "Generation 62 -> Average fitness : 51.82\n",
      "Generation 63 -> Average fitness : 51.84\n",
      "Generation 64 -> Average fitness : 51.62\n",
      "Generation 65 -> Average fitness : 51.76\n",
      "Generation 66 -> Average fitness : 51.9\n",
      "Generation 67 -> Average fitness : 51.68\n",
      "Generation 68 -> Average fitness : 51.84\n",
      "Generation 69 -> Average fitness : 52.0\n",
      "Generation 70 -> Average fitness : 51.82\n",
      "Generation 71 -> Average fitness : 51.86\n",
      "Generation 72 -> Average fitness : 51.66\n",
      "Generation 73 -> Average fitness : 51.66\n",
      "Generation 74 -> Average fitness : 51.76\n",
      "Generation 75 -> Average fitness : 51.72\n",
      "Generation 76 -> Average fitness : 51.9\n",
      "Generation 77 -> Average fitness : 51.74\n",
      "Generation 78 -> Average fitness : 51.88\n",
      "Generation 79 -> Average fitness : 51.86\n",
      "Generation 80 -> Average fitness : 51.8\n",
      "Generation 81 -> Average fitness : 51.72\n",
      "Generation 82 -> Average fitness : 51.78\n",
      "Generation 83 -> Average fitness : 51.76\n",
      "Generation 84 -> Average fitness : 51.76\n",
      "Generation 85 -> Average fitness : 51.98\n",
      "Generation 86 -> Average fitness : 51.72\n",
      "Generation 87 -> Average fitness : 51.76\n",
      "Generation 88 -> Average fitness : 51.6\n",
      "Generation 89 -> Average fitness : 51.78\n",
      "Generation 90 -> Average fitness : 51.72\n",
      "Generation 91 -> Average fitness : 51.84\n",
      "Generation 92 -> Average fitness : 51.64\n",
      "Generation 93 -> Average fitness : 51.82\n",
      "Generation 94 -> Average fitness : 51.76\n",
      "Generation 95 -> Average fitness : 51.62\n",
      "Generation 96 -> Average fitness : 51.98\n",
      "Generation 97 -> Average fitness : 51.88\n",
      "Generation 98 -> Average fitness : 51.64\n",
      "Generation 99 -> Average fitness : 51.82\n",
      "Generation 100 -> Average fitness : 51.94\n",
      "Generation 101 -> Average fitness : 51.78\n",
      "Generation 102 -> Average fitness : 51.66\n",
      "Generation 103 -> Average fitness : 51.6\n",
      "Generation 104 -> Average fitness : 51.88\n",
      "Generation 105 -> Average fitness : 51.72\n",
      "Generation 106 -> Average fitness : 51.9\n",
      "Generation 107 -> Average fitness : 51.72\n",
      "Generation 108 -> Average fitness : 51.64\n",
      "Generation 109 -> Average fitness : 51.8\n",
      "Generation 110 -> Average fitness : 51.58\n",
      "Generation 111 -> Average fitness : 51.78\n",
      "Generation 112 -> Average fitness : 51.88\n",
      "Generation 113 -> Average fitness : 51.92\n",
      "Generation 114 -> Average fitness : 51.98\n",
      "Generation 115 -> Average fitness : 51.5\n",
      "Generation 116 -> Average fitness : 51.76\n",
      "Generation 117 -> Average fitness : 51.74\n",
      "Generation 118 -> Average fitness : 51.56\n",
      "Generation 119 -> Average fitness : 51.88\n",
      "Generation 120 -> Average fitness : 51.94\n",
      "Generation 121 -> Average fitness : 51.86\n",
      "Generation 122 -> Average fitness : 51.78\n",
      "Generation 123 -> Average fitness : 51.9\n",
      "Generation 124 -> Average fitness : 51.88\n",
      "Generation 125 -> Average fitness : 51.52\n",
      "Generation 126 -> Average fitness : 51.84\n",
      "Generation 127 -> Average fitness : 51.74\n",
      "Generation 128 -> Average fitness : 51.78\n",
      "Generation 129 -> Average fitness : 51.98\n",
      "Generation 130 -> Average fitness : 51.86\n",
      "Generation 131 -> Average fitness : 51.46\n",
      "Generation 132 -> Average fitness : 51.78\n",
      "Generation 133 -> Average fitness : 51.82\n",
      "Generation 134 -> Average fitness : 51.86\n",
      "Generation 135 -> Average fitness : 51.7\n",
      "Generation 136 -> Average fitness : 51.96\n",
      "Generation 137 -> Average fitness : 51.8\n",
      "Generation 138 -> Average fitness : 51.98\n",
      "Generation 139 -> Average fitness : 51.44\n",
      "Generation 140 -> Average fitness : 51.82\n",
      "Generation 141 -> Average fitness : 51.66\n",
      "Generation 142 -> Average fitness : 51.54\n",
      "Generation 143 -> Average fitness : 51.84\n",
      "Generation 144 -> Average fitness : 51.78\n",
      "Generation 145 -> Average fitness : 51.74\n",
      "Generation 146 -> Average fitness : 51.68\n",
      "Generation 147 -> Average fitness : 51.68\n",
      "Generation 148 -> Average fitness : 51.88\n",
      "Generation 149 -> Average fitness : 51.78\n",
      "Generation 150 -> Average fitness : 51.74\n",
      "Generation 151 -> Average fitness : 51.92\n",
      "Generation 152 -> Average fitness : 51.9\n",
      "Generation 153 -> Average fitness : 51.68\n",
      "Generation 154 -> Average fitness : 51.68\n",
      "Generation 155 -> Average fitness : 51.98\n",
      "Generation 156 -> Average fitness : 51.68\n",
      "Generation 157 -> Average fitness : 51.78\n",
      "Generation 158 -> Average fitness : 51.9\n",
      "Generation 159 -> Average fitness : 51.64\n",
      "Generation 160 -> Average fitness : 51.92\n",
      "Generation 161 -> Average fitness : 51.8\n",
      "Generation 162 -> Average fitness : 51.82\n",
      "Generation 163 -> Average fitness : 51.66\n",
      "Generation 164 -> Average fitness : 51.84\n",
      "Generation 165 -> Average fitness : 51.76\n",
      "Generation 166 -> Average fitness : 51.84\n",
      "Generation 167 -> Average fitness : 51.88\n",
      "Generation 168 -> Average fitness : 51.58\n",
      "Generation 169 -> Average fitness : 51.94\n",
      "Generation 170 -> Average fitness : 51.84\n",
      "Generation 171 -> Average fitness : 51.76\n",
      "Generation 172 -> Average fitness : 51.88\n",
      "Generation 173 -> Average fitness : 51.78\n",
      "Generation 174 -> Average fitness : 51.68\n",
      "Generation 175 -> Average fitness : 51.76\n",
      "Generation 176 -> Average fitness : 51.82\n",
      "Generation 177 -> Average fitness : 51.66\n",
      "Generation 178 -> Average fitness : 51.72\n",
      "Generation 179 -> Average fitness : 51.92\n",
      "Generation 180 -> Average fitness : 51.9\n",
      "Generation 181 -> Average fitness : 51.66\n",
      "Generation 182 -> Average fitness : 51.78\n",
      "Generation 183 -> Average fitness : 51.86\n",
      "Generation 184 -> Average fitness : 51.8\n",
      "Generation 185 -> Average fitness : 51.84\n",
      "Generation 186 -> Average fitness : 51.92\n",
      "Generation 187 -> Average fitness : 51.5\n",
      "Generation 188 -> Average fitness : 51.82\n",
      "Generation 189 -> Average fitness : 51.9\n",
      "Generation 190 -> Average fitness : 51.82\n",
      "Generation 191 -> Average fitness : 51.74\n",
      "Generation 192 -> Average fitness : 51.7\n",
      "Generation 193 -> Average fitness : 51.82\n",
      "Generation 194 -> Average fitness : 51.66\n",
      "Generation 195 -> Average fitness : 51.86\n",
      "Generation 196 -> Average fitness : 51.84\n",
      "Generation 197 -> Average fitness : 51.9\n",
      "Generation 198 -> Average fitness : 51.9\n",
      "Generation 199 -> Average fitness : 51.7\n"
     ]
    }
   ],
   "source": [
    "population = geneticTraining(population, obstacleRoom, 0.025, totalGenerations) ;"
   ]
  },
  {
   "cell_type": "code",
   "execution_count": 16,
   "id": "6f6434e1",
   "metadata": {},
   "outputs": [
    {
     "name": "stdout",
     "output_type": "stream",
     "text": [
      "The fittest chromosome is  [2, 2, 2, 2, 2, 0, 2, 2, 2, 0, 2, 2, 2, 2, 0, 0, 0, 1, 1, 1, 0, 0, 2, 2, 0, 1, 0, 2, 2, 2, 0, 2, 2, 2, 2, 2, 0, 1, 1, 0, 2, 0, 1, 0, 1, 1, 0, 0, 0, 2, 0, 1, 0, 1]\n"
     ]
    }
   ],
   "source": [
    "maxFitness = -99999 ;\n",
    "chosenOne = 0 ;\n",
    "for i, chromosome in enumerate(population):\n",
    "    x = calculateFitness(chromosome, obstacleRoom) ;\n",
    "    if x > maxFitness:\n",
    "        chosenOne = i ;\n",
    "fittestChromosome = population[chosenOne] ;\n",
    "print(\"The fittest chromosome is \", fittestChromosome) ;"
   ]
  },
  {
   "cell_type": "code",
   "execution_count": 17,
   "id": "9f741580",
   "metadata": {},
   "outputs": [
    {
     "data": {
      "image/png": "[encoded data removed]",
      "text/plain": [
       "<Figure size 144x288 with 1 Axes>"
      ]
     },
     "metadata": {
      "needs_background": "light"
     },
     "output_type": "display_data"
    }
   ],
   "source": [
    "obstacleRoom = trackPathInRoom(obstacleRoom, fittestChromosome) ;\n",
    "showRoom(obstacleRoom) ;"
   ]
  },
  {
   "cell_type": "code",
   "execution_count": null,
   "id": "2aa9c7b5",
   "metadata": {},
   "outputs": [],
   "source": []
  },
  {
   "cell_type": "code",
   "execution_count": null,
   "id": "67b39178",
   "metadata": {},
   "outputs": [],
   "source": []
  }
 ],
 "metadata": {
  "kernelspec": {
   "display_name": "Python 3 (ipykernel)",
   "language": "python",
   "name": "python3"
  },
  "language_info": {
   "codemirror_mode": {
    "name": "ipython",
    "version": 3
   },
   "file_extension": ".py",
   "mimetype": "text/x-python",
   "name": "python",
   "nbconvert_exporter": "python",
   "pygments_lexer": "ipython3",
   "version": "3.10.5"
  }
 },
 "nbformat": 4,
 "nbformat_minor": 5
}
