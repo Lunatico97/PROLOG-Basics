{
 "cells": [
  {
   "cell_type": "markdown",
   "id": "448b1e5f",
   "metadata": {},
   "source": [
    "## String Matching Using Genetic Algorithm"
   ]
  },
  {
   "cell_type": "code",
   "execution_count": 1,
   "id": "fae044fe",
   "metadata": {},
   "outputs": [],
   "source": [
    "import random ;\n",
    "random.seed(555) ;\n",
    "POPULATION_SIZE = 100 ;\n",
    "GENES = '''abcdefghijklmnopqrstuvwxyzABCDEFGHIJKLMNOPQRSTUVWXYZ 1234567890, .-;:_!\"#%&/()=?@${[]}''' ;\n",
    "TARGET = \"Missisippi\" ;"
   ]
  },
  {
   "cell_type": "code",
   "execution_count": 2,
   "id": "5466e069",
   "metadata": {},
   "outputs": [],
   "source": [
    "class Individual(object):\n",
    "    def __init__(self, chromosome):\n",
    "        self.chromosome = chromosome ;\n",
    "        self.fitness = self.cal_fitness() ;\n",
    "    \n",
    "    @classmethod\n",
    "    def mutated_genes(self):\n",
    "        global GENES ;\n",
    "        gene = random.choice(GENES) ;\n",
    "        return gene ;\n",
    "\n",
    "    @classmethod\n",
    "    def create_gnome(self):\n",
    "        global TARGET ;\n",
    "        gnome_len = len(TARGET) ;\n",
    "        return [self.mutated_genes() for _ in range(gnome_len)] ;\n",
    "\n",
    "    def mate(self, par2):\n",
    "        child_chromosome = [] ;\n",
    "        for gp1, gp2 in zip(self.chromosome, par2.chromosome):\n",
    "            prob = random.random() ;\n",
    "            if prob < 0.45:\n",
    "                child_chromosome.append(gp1) ;\n",
    "            elif prob < 0.90:\n",
    "                child_chromosome.append(gp2) ;\n",
    "            else:\n",
    "                child_chromosome.append(self.mutated_genes()) ;\n",
    "        return Individual(child_chromosome) ;\n",
    "\n",
    "    def cal_fitness(self):\n",
    "        global TARGET ;\n",
    "        fitness = 0 ;\n",
    "        for gs, gt in zip(self.chromosome, TARGET):\n",
    "            if gs != gt: \n",
    "                fitness+= 1 ;\n",
    "        return fitness ;"
   ]
  },
  {
   "cell_type": "code",
   "execution_count": 3,
   "id": "5e97fe08",
   "metadata": {},
   "outputs": [
    {
     "name": "stdout",
     "output_type": "stream",
     "text": [
      "Generation: 1\tString: JKOusMiFj&\tFitness: 9\n",
      "Generation: 2\tString: JKOusMiFj&\tFitness: 9\n",
      "Generation: 3\tString: Co8&is\"Cp?\tFitness: 7\n",
      "Generation: 4\tString: Co8&is\"Cp?\tFitness: 7\n",
      "Generation: 5\tString: y,ssisR;Yu\tFitness: 6\n",
      "Generation: 6\tString: y,ssisR;Yu\tFitness: 6\n",
      "Generation: 7\tString: yoOsisiNp?\tFitness: 5\n",
      "Generation: 8\tString: ycssisRppu\tFitness: 4\n",
      "Generation: 9\tString: ycssisRppu\tFitness: 4\n",
      "Generation: 10\tString: ycssisRppu\tFitness: 4\n",
      "Generation: 11\tString: n,ssisippu\tFitness: 3\n",
      "Generation: 12\tString: n,ssisippu\tFitness: 3\n",
      "Generation: 13\tString: n,ssisippu\tFitness: 3\n",
      "Generation: 14\tString: n,ssisippu\tFitness: 3\n",
      "Generation: 15\tString: n,ssisippu\tFitness: 3\n",
      "Generation: 16\tString: n,ssisippu\tFitness: 3\n",
      "Generation: 17\tString: n,ssisippu\tFitness: 3\n",
      "Generation: 18\tString: 0Tssisippi\tFitness: 2\n",
      "Generation: 19\tString: 0Tssisippi\tFitness: 2\n",
      "Generation: 20\tString: 0Tssisippi\tFitness: 2\n",
      "Generation: 21\tString: 0Tssisippi\tFitness: 2\n",
      "Generation: 22\tString: MTssisippi\tFitness: 1\n",
      "Generation: 23\tString: MTssisippi\tFitness: 1\n",
      "Generation: 24\tString: MTssisippi\tFitness: 1\n",
      "Generation: 25\tString: MTssisippi\tFitness: 1\n",
      "Generation: 26\tString: MTssisippi\tFitness: 1\n",
      "Generation: 27\tString: MTssisippi\tFitness: 1\n",
      "Generation: 28\tString: MTssisippi\tFitness: 1\n",
      "Generation: 29\tString: Missisippi\tFitness: 0\n"
     ]
    }
   ],
   "source": [
    "def main():\n",
    "        global POPULATION_SIZE\n",
    "        #current generation\n",
    "        generation = 1 ;\n",
    "        found = False ;\n",
    "        population = [] ;\n",
    "        # create initial population\n",
    "        for _ in range(POPULATION_SIZE):\n",
    "            gnome = Individual.create_gnome() ;\n",
    "            population.append(Individual(gnome)) ;\n",
    "            \n",
    "        while not found:\n",
    "            population = sorted(population, key = lambda x:x.fitness) ;\n",
    "            if population[0].fitness <= 0:\n",
    "                found = True ;\n",
    "                break ;\n",
    "            \n",
    "            new_generation = [] ;\n",
    "            s = int((10*POPULATION_SIZE)/100) ;\n",
    "            new_generation.extend(population[:s])\n",
    "            s = int((90*POPULATION_SIZE)/100) ;\n",
    "            for _ in range(s):\n",
    "                parent1 = random.choice(population[:50]) ;\n",
    "                parent2 = random.choice(population[:50]) ;\n",
    "                child = parent1.mate(parent2) ;\n",
    "                new_generation.append(child) ;\n",
    "                \n",
    "            population = new_generation ;\n",
    "            print(\"Generation: {}\\tString: {}\\tFitness: {}\".\\\n",
    "            format(generation, \"\".join(population[0].chromosome), population[0].fitness)) ;\n",
    "            generation += 1 ;\n",
    "                \n",
    "        print(\"Generation: {}\\tString: {}\\tFitness: {}\".\\\n",
    "        format(generation, \"\".join(population[0].chromosome), population[0].fitness)) ;\n",
    "\n",
    "if __name__ == '__main__':\n",
    "    main() ;"
   ]
  },
  {
   "cell_type": "code",
   "execution_count": null,
   "id": "f6cee1e2",
   "metadata": {},
   "outputs": [],
   "source": []
  }
 ],
 "metadata": {
  "kernelspec": {
   "display_name": "Python 3 (ipykernel)",
   "language": "python",
   "name": "python3"
  },
  "language_info": {
   "codemirror_mode": {
    "name": "ipython",
    "version": 3
   },
   "file_extension": ".py",
   "mimetype": "text/x-python",
   "name": "python",
   "nbconvert_exporter": "python",
   "pygments_lexer": "ipython3",
   "version": "3.10.5"
  }
 },
 "nbformat": 4,
 "nbformat_minor": 5
}
